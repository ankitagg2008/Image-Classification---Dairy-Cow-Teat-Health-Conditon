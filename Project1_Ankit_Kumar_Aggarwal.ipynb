{
 "cells": [
  {
   "cell_type": "markdown",
   "id": "e492d3b4",
   "metadata": {},
   "source": [
    "<div class=\"alert alert-block alert-info\" style=\"text-align:center;\">\n",
    "   <h1 style=\"font-size: 24px;\">Project 1 - Dairy Cow Teat Classification using Neural Network</h1>\n",
    "</div>"
   ]
  },
  {
   "cell_type": "markdown",
   "id": "d787b3f5",
   "metadata": {},
   "source": [
    "import numpy as np\n",
    "import pandas as pd\n",
    "import matplotlib.pyplot as plt\n",
    "import cv2\n",
    "from PIL import Image\n",
    "import os\n",
    "from skimage import color\n",
    "from skimage.feature import hog\n",
    "from sklearn import svm\n",
    "from sklearn.neighbors import KNeighborsClassifier # using 1NN\n",
    "from sklearn.svm import SVC\n",
    "from sklearn.metrics import accuracy_score\n",
    "from tqdm import tqdm \n",
    "from torchvision.utils import make_grid\n",
    "from torchvision.utils import save_image\n",
    "from sklearn.preprocessing import StandardScaler\n",
    "from sklearn.model_selection import train_test_split\n",
    "import torch\n",
    "import torch.nn as nn\n",
    "import torch.optim as optim\n",
    "from torch.utils.data import DataLoader, TensorDataset\n",
    "from tqdm import tqdm"
   ]
  },
  {
   "cell_type": "code",
   "execution_count": 52,
   "id": "9ecf2e4d",
   "metadata": {},
   "outputs": [],
   "source": [
    "import torch\n",
    "torch.cuda.empty_cache()"
   ]
  },
  {
   "cell_type": "markdown",
   "id": "f927e50a",
   "metadata": {},
   "source": [
    "# Download the [cow teat datasets](https://github.com/YoushanZhang/SCTL)  resize image to (224, 224)"
   ]
  },
  {
   "cell_type": "markdown",
   "id": "ab0c625d",
   "metadata": {},
   "source": [
    "### (1). Create a train data loader that returns image arrays and labels"
   ]
  },
  {
   "cell_type": "code",
   "execution_count": 53,
   "id": "18b0b565",
   "metadata": {},
   "outputs": [],
   "source": [
    "def train_data_loader(train_dirs, image_size=(224, 224)):\n",
    "    # Initialize empty lists to store image arrays and labels\n",
    "    image_arrays = []\n",
    "    image_labels = []\n",
    "   \n",
    "    # Define image transformation parameters\n",
    "    image_transform = cv2.getRotationMatrix2D((image_size[0] / 2, image_size[1] / 2), 30, 1.0)\n",
    "    \n",
    "    # Loop to navigate all directories and read information from all the image files\n",
    "    for label, directory in enumerate(sorted(os.listdir(train_dirs))):\n",
    "        path = os.path.join(train_dirs, directory)\n",
    "\n",
    "        # Check if it's a directory\n",
    "        if not os.path.isdir(path):\n",
    "            continue\n",
    "\n",
    "        # Iterate over image files in the directory\n",
    "        for img_file in os.listdir(path):\n",
    "            img_path = os.path.join(path, img_file)\n",
    "\n",
    "            # Read and transform images\n",
    "            img = plt.imread(img_path).copy()\n",
    "            img = cv2.resize(img, image_size)\n",
    "            \n",
    "            # Apply additional image transformations (e.g., rotation)\n",
    "            img = cv2.warpAffine(img, image_transform, image_size)\n",
    "            \n",
    "            # Normalize image values to the range [0, 1]\n",
    "            img = img.astype(np.float32) / 255.0\n",
    "            \n",
    "            image_labels.append(label)\n",
    "            image_arrays.append(img)\n",
    "            \n",
    "    return image_arrays, image_labels"
   ]
  },
  {
   "cell_type": "markdown",
   "id": "95c75bdb",
   "metadata": {},
   "source": [
    "### (2). Create a test data loader that returns image arrays and file names"
   ]
  },
  {
   "cell_type": "code",
   "execution_count": 54,
   "id": "541e9cb4",
   "metadata": {},
   "outputs": [],
   "source": [
    "def test_data_loader(data_dir, image_size=(224, 224)):\n",
    "    # Get a list of image files in the test data directory\n",
    "    image_files = [f for f in os.listdir(data_dir) if f.endswith(\".jpg\")]\n",
    "    \n",
    "    # Initialize lists for data and file names\n",
    "    image_arrays = []\n",
    "    image_names = []\n",
    "    \n",
    "    # Define image transformation parameters\n",
    "    image_transform = cv2.getRotationMatrix2D((image_size[0] / 2, image_size[1] / 2), 30, 1.0)\n",
    "    \n",
    "    # Iterate over the image files\n",
    "    for file in image_files:\n",
    "        # Get the full path of the image\n",
    "        path = os.path.join(data_dir, file)\n",
    "        \n",
    "        # Read and transform the image\n",
    "        img = plt.imread(path).copy()\n",
    "        img = cv2.resize(img, image_size)\n",
    "        \n",
    "        # Apply additional image transformations (e.g., rotation)\n",
    "        img = cv2.warpAffine(img, image_transform, image_size)\n",
    "        \n",
    "        # Normalize image values to the range [0, 1]\n",
    "        img = img.astype(np.float32) / 255.0\n",
    "        \n",
    "        # Append the preprocessed image and file name to the lists\n",
    "        image_arrays.append(img)\n",
    "        image_names.append(file)\n",
    "    \n",
    "    # Convert lists to NumPy arrays and return\n",
    "    return image_arrays, image_names"
   ]
  },
  {
   "cell_type": "markdown",
   "id": "bad569b2",
   "metadata": {},
   "source": [
    "### (3). Print image arrays, labels and file names dimensions "
   ]
  },
  {
   "cell_type": "markdown",
   "id": "9e09431a",
   "metadata": {},
   "source": [
    "### Training Dataset"
   ]
  },
  {
   "cell_type": "code",
   "execution_count": 55,
   "id": "c273b98a",
   "metadata": {},
   "outputs": [
    {
     "name": "stdout",
     "output_type": "stream",
     "text": [
      "Training Dataset Array: (1149, 224, 224, 3)\n",
      "Training Label Shape: (1149,)\n"
     ]
    }
   ],
   "source": [
    "train_loader = r'C:\\AKA\\Backup Dell Laptop\\D Drive\\YU\\Semester 2\\Neural Network\\DLNN\\Assignment_Week5\\Homework Week5\\Homework Week5\\Training'\n",
    "training_array, training_labels = train_data_loader(train_loader)\n",
    "training_array, training_labels = np.array(training_array), np.array(training_labels)\n",
    "\n",
    "print(\"Training Dataset Array:\",training_array.shape )\n",
    "print(\"Training Label Shape:\",training_labels.shape )"
   ]
  },
  {
   "cell_type": "markdown",
   "id": "29f15e42",
   "metadata": {},
   "source": [
    "**Observation:**\n",
    "   - The training dataset contains total 1149 images of size 224, 224 and has 3 channels."
   ]
  },
  {
   "cell_type": "markdown",
   "id": "e77b0d89",
   "metadata": {},
   "source": [
    "### Test Dataset"
   ]
  },
  {
   "cell_type": "code",
   "execution_count": 56,
   "id": "a6530b3b",
   "metadata": {},
   "outputs": [
    {
     "name": "stdout",
     "output_type": "stream",
     "text": [
      "Test Dataset Array: (380, 224, 224, 3)\n",
      "Test File Names Extracted: (380,)\n"
     ]
    }
   ],
   "source": [
    "# Example usage\n",
    "test_loader=r'C:\\AKA\\Backup Dell Laptop\\D Drive\\YU\\Semester 2\\Neural Network\\DLNN\\Assignment_Week5\\Homework Week5\\Homework Week5\\Test_Data'\n",
    "test_array, test_file_name = test_data_loader(test_loader)\n",
    "test_array, test_file_name = np.array(test_array), np.array(test_file_name)\n",
    "\n",
    "print(\"Test Dataset Array:\",test_array.shape )\n",
    "print(\"Test File Names Extracted:\",test_file_name.shape )"
   ]
  },
  {
   "cell_type": "markdown",
   "id": "f6afa108",
   "metadata": {},
   "source": [
    "**Observation:**\n",
    "   - The test dataset contains total 380 images of size 224, 224 and has 3 channels."
   ]
  },
  {
   "cell_type": "code",
   "execution_count": 57,
   "id": "44a4c90a",
   "metadata": {},
   "outputs": [
    {
     "name": "stdout",
     "output_type": "stream",
     "text": [
      "Training Dataset Array: (919, 224, 224, 3)\n",
      "Validation Dataset Array: (230, 224, 224, 3)\n"
     ]
    }
   ],
   "source": [
    "# Split your data into training and validation sets\n",
    "X_train, X_val, y_train, y_val = train_test_split(training_array, training_labels, test_size=0.2, random_state=42)\n",
    "\n",
    "print(\"Training Dataset Array:\", X_train.shape)\n",
    "print(\"Validation Dataset Array:\", X_val.shape)"
   ]
  },
  {
   "cell_type": "markdown",
   "id": "74dbbd22",
   "metadata": {},
   "source": [
    "## Build your own convolutional neural network using pytorch"
   ]
  },
  {
   "cell_type": "code",
   "execution_count": 59,
   "id": "f56f15d6",
   "metadata": {},
   "outputs": [],
   "source": [
    "import torch.nn as nn\n",
    "\n",
    "class ResidualBlock(nn.Module):\n",
    "    def __init__(self, in_channels, out_channels, stride=1):\n",
    "        super(ResidualBlock, self).__init__()\n",
    "        self.conv1 = nn.Conv2d(in_channels, out_channels, kernel_size=3, stride=stride, padding=1)\n",
    "        self.relu1 = nn.ReLU()\n",
    "        self.conv2 = nn.Conv2d(out_channels, out_channels, kernel_size=3, stride=1, padding=1)\n",
    "        self.relu2 = nn.ReLU()\n",
    "        self.shortcut = nn.Sequential()\n",
    "        if stride != 1 or in_channels != out_channels:\n",
    "            self.shortcut = nn.Sequential(\n",
    "                nn.Conv2d(in_channels, out_channels, kernel_size=1, stride=stride),\n",
    "            )\n",
    "        self.relu = nn.ReLU()\n",
    "\n",
    "    def forward(self, x):\n",
    "        out = self.conv1(x)\n",
    "        out = self.relu1(out)\n",
    "        out = self.conv2(out)\n",
    "        out += self.shortcut(x)  \n",
    "        out = self.relu2(out)\n",
    "        return out\n",
    "\n",
    "class ImprovedNeuralNetwork(nn.Module):\n",
    "    def __init__(self):\n",
    "        super(ImprovedNeuralNetwork, self).__init__()\n",
    "        self.conv1 = nn.Conv2d(3, 256, kernel_size=3, stride=1, padding=1)\n",
    "        #self.bn1 = nn.BatchNorm2d(256)  \n",
    "        self.relu1 = nn.ReLU()\n",
    "        self.pool1 = nn.MaxPool2d(kernel_size=2, stride=2)\n",
    "        self.residual_block1 = ResidualBlock(256, 256)\n",
    "        #self.bn2 = nn.BatchNorm2d(128)\n",
    "        self.pool2 = nn.MaxPool2d(kernel_size=2, stride=2)\n",
    "        self.residual_block2 = ResidualBlock(256, 128)\n",
    "        self.pool6 = nn.MaxPool2d(kernel_size=2, stride=2)\n",
    "        self.residual_block3 = ResidualBlock(128, 64)\n",
    "        self.pool7 = nn.MaxPool2d(kernel_size=2, stride=2)\n",
    "#         self.residual_block4 = ResidualBlock(64, 64)\n",
    "#         self.pool10 = nn.MaxPool2d(kernel_size=2, stride=2)\n",
    "#         self.residual_block5 = ResidualBlock(64, 32)\n",
    "#         self.pool11 = nn.MaxPool2d(kernel_size=2, stride=2)\n",
    "#         self.residual_block6 = ResidualBlock(32, 32)\n",
    "#         self.pool12 = nn.MaxPool2d(kernel_size=2, stride=2)\n",
    "        self.fc1 = nn.Linear(12544, 256)\n",
    "        self.relu3 = nn.ReLU()\n",
    "        self.fc2 = nn.Linear(256, 128)\n",
    "        self.relu4 = nn.ReLU()\n",
    "        self.dropout = nn.Dropout(0.2)\n",
    "        self.fc5 = nn.Linear(128, 128)\n",
    "        self.relu8 = nn.ReLU()\n",
    "        self.fc6 = nn.Linear(128, 64)\n",
    "        self.relu9 = nn.ReLU()\n",
    "        self.fc3 = nn.Linear(64, 4)  \n",
    "\n",
    "    def forward(self, x):\n",
    "        x = self.conv1(x)\n",
    "        #x = self.bn1(x)\n",
    "        x = self.relu1(x)\n",
    "        x = self.pool1(x)\n",
    "        x = self.residual_block1(x)\n",
    "        #x = self.bn2(x) \n",
    "        x = self.pool2(x)\n",
    "        x = self.residual_block2(x)\n",
    "        x = self.pool6(x)\n",
    "        x = self.residual_block3(x)\n",
    "        x = self.pool7(x)\n",
    "#         x = self.residual_block4(x)\n",
    "#         x = self.pool10(x)\n",
    "#         x = self.residual_block5(x)\n",
    "#         x = self.pool11(x)\n",
    "#         x = self.residual_block6(x)\n",
    "#         x = self.pool12(x)\n",
    "        x = x.view(x.size(0), -1)\n",
    "        x = self.fc1(x)\n",
    "        x = self.relu3(x)\n",
    "        x = self.fc2(x)\n",
    "        x = self.relu4(x)\n",
    "        x = self.dropout(x)\n",
    "        x = self.fc5(x)\n",
    "        x = self.relu8(x)\n",
    "        x = self.fc6(x)\n",
    "        x = self.relu9(x)\n",
    "        x = self.fc3(x)\n",
    "        return x\n"
   ]
  },
  {
   "cell_type": "code",
   "execution_count": 60,
   "id": "223034b1",
   "metadata": {},
   "outputs": [],
   "source": [
    "# Initialize your neural network (no arguments needed)\n",
    "model = ImprovedNeuralNetwork()\n",
    "\n",
    "# Define the optimizer (e.g., Adam)\n",
    "criterion = nn.CrossEntropyLoss()\n",
    "optimizer = optim.Adam(model.parameters(), lr=0.001)"
   ]
  },
  {
   "cell_type": "code",
   "execution_count": 61,
   "id": "e205d355",
   "metadata": {},
   "outputs": [],
   "source": [
    "# Convert data to PyTorch tensors\n",
    "training_data = torch.Tensor(X_train)\n",
    "training_labels = torch.LongTensor(y_train)\n",
    "validation_data = torch.Tensor(X_val)\n",
    "validation_labels = torch.LongTensor(y_val)\n",
    "\n",
    "# permute the dimensions to match the expected shape [num_samples, 3, 224, 224]\n",
    "training_data = training_data.permute(0, 3, 1, 2)\n",
    "validation_data = validation_data.permute(0, 3, 1, 2)"
   ]
  },
  {
   "cell_type": "markdown",
   "id": "b430c935",
   "metadata": {},
   "source": [
    "## Train your model using cow teat datasets (you may need to use Google Colab (or Kaggle) with GPU to train your code)"
   ]
  },
  {
   "cell_type": "code",
   "execution_count": 62,
   "id": "b191dc96",
   "metadata": {},
   "outputs": [
    {
     "name": "stdout",
     "output_type": "stream",
     "text": [
      "cuda:0\n"
     ]
    }
   ],
   "source": [
    "# Set the device (CPU or GPU)\n",
    "device = torch.device(\"cuda:0\" if torch.cuda.is_available() else \"cpu\")\n",
    "model.to(device)\n",
    "print(device)"
   ]
  },
  {
   "cell_type": "code",
   "execution_count": 63,
   "id": "2e9c0ad6",
   "metadata": {},
   "outputs": [],
   "source": [
    "# Create TensorDatasets for training and validation\n",
    "training_dataset = TensorDataset(training_data, training_labels)\n",
    "validation_dataset = TensorDataset(validation_data, validation_labels)"
   ]
  },
  {
   "cell_type": "code",
   "execution_count": 64,
   "id": "a43940bb",
   "metadata": {
    "scrolled": true
   },
   "outputs": [
    {
     "name": "stderr",
     "output_type": "stream",
     "text": [
      "100%|███████████████████████████████████████████████████| 115/115 [00:27<00:00,  4.11batch/s, accuracy=46.5, loss=1.12]\n",
      "100%|████████████████████████████████████████████████████| 29/29 [00:07<00:00,  4.00batch/s, accuracy=62.6, loss=0.993]\n"
     ]
    },
    {
     "name": "stdout",
     "output_type": "stream",
     "text": [
      "Training - Epoch [1/20], Loss: 1.1165, Accuracy: 46.46%\n",
      "Validation - Epoch [1/20], Loss: 0.9588, Accuracy: 62.61%\n"
     ]
    },
    {
     "name": "stderr",
     "output_type": "stream",
     "text": [
      "100%|██████████████████████████████████████████████████| 115/115 [00:21<00:00,  5.40batch/s, accuracy=58.3, loss=0.982]\n",
      "100%|█████████████████████████████████████████████████████| 29/29 [00:07<00:00,  4.04batch/s, accuracy=63.9, loss=1.05]\n"
     ]
    },
    {
     "name": "stdout",
     "output_type": "stream",
     "text": [
      "Training - Epoch [2/20], Loss: 0.9817, Accuracy: 58.32%\n",
      "Validation - Epoch [2/20], Loss: 1.0180, Accuracy: 63.91%\n"
     ]
    },
    {
     "name": "stderr",
     "output_type": "stream",
     "text": [
      "100%|██████████████████████████████████████████████████| 115/115 [00:21<00:00,  5.38batch/s, accuracy=57.9, loss=0.968]\n",
      "100%|████████████████████████████████████████████████████| 29/29 [00:07<00:00,  4.07batch/s, accuracy=64.8, loss=0.988]\n"
     ]
    },
    {
     "name": "stdout",
     "output_type": "stream",
     "text": [
      "Training - Epoch [3/20], Loss: 0.9682, Accuracy: 57.89%\n",
      "Validation - Epoch [3/20], Loss: 0.9539, Accuracy: 64.78%\n"
     ]
    },
    {
     "name": "stderr",
     "output_type": "stream",
     "text": [
      "100%|██████████████████████████████████████████████████| 115/115 [00:21<00:00,  5.26batch/s, accuracy=60.6, loss=0.943]\n",
      "100%|████████████████████████████████████████████████████| 29/29 [00:07<00:00,  3.99batch/s, accuracy=63.9, loss=0.981]\n"
     ]
    },
    {
     "name": "stdout",
     "output_type": "stream",
     "text": [
      "Training - Epoch [4/20], Loss: 0.9433, Accuracy: 60.61%\n",
      "Validation - Epoch [4/20], Loss: 0.9476, Accuracy: 63.91%\n"
     ]
    },
    {
     "name": "stderr",
     "output_type": "stream",
     "text": [
      "100%|██████████████████████████████████████████████████| 115/115 [00:21<00:00,  5.30batch/s, accuracy=61.3, loss=0.926]\n",
      "100%|█████████████████████████████████████████████████████| 29/29 [00:07<00:00,  4.08batch/s, accuracy=64.3, loss=0.99]\n"
     ]
    },
    {
     "name": "stdout",
     "output_type": "stream",
     "text": [
      "Training - Epoch [5/20], Loss: 0.9255, Accuracy: 61.26%\n",
      "Validation - Epoch [5/20], Loss: 0.9559, Accuracy: 64.35%\n"
     ]
    },
    {
     "name": "stderr",
     "output_type": "stream",
     "text": [
      "100%|██████████████████████████████████████████████████| 115/115 [00:21<00:00,  5.42batch/s, accuracy=61.2, loss=0.915]\n",
      "100%|████████████████████████████████████████████████████| 29/29 [00:07<00:00,  4.08batch/s, accuracy=65.2, loss=0.952]\n"
     ]
    },
    {
     "name": "stdout",
     "output_type": "stream",
     "text": [
      "Training - Epoch [6/20], Loss: 0.9146, Accuracy: 61.15%\n",
      "Validation - Epoch [6/20], Loss: 0.9191, Accuracy: 65.22%\n"
     ]
    },
    {
     "name": "stderr",
     "output_type": "stream",
     "text": [
      "100%|██████████████████████████████████████████████████| 115/115 [00:32<00:00,  3.51batch/s, accuracy=61.9, loss=0.906]\n",
      "100%|█████████████████████████████████████████████████████| 29/29 [00:07<00:00,  3.73batch/s, accuracy=58.7, loss=1.07]\n"
     ]
    },
    {
     "name": "stdout",
     "output_type": "stream",
     "text": [
      "Training - Epoch [7/20], Loss: 0.9059, Accuracy: 61.92%\n",
      "Validation - Epoch [7/20], Loss: 1.0351, Accuracy: 58.70%\n"
     ]
    },
    {
     "name": "stderr",
     "output_type": "stream",
     "text": [
      "100%|██████████████████████████████████████████████████| 115/115 [00:34<00:00,  3.31batch/s, accuracy=61.2, loss=0.961]\n",
      "100%|████████████████████████████████████████████████████| 29/29 [00:07<00:00,  3.74batch/s, accuracy=63.5, loss=0.989]\n"
     ]
    },
    {
     "name": "stdout",
     "output_type": "stream",
     "text": [
      "Training - Epoch [8/20], Loss: 0.9609, Accuracy: 61.15%\n",
      "Validation - Epoch [8/20], Loss: 0.9548, Accuracy: 63.48%\n"
     ]
    },
    {
     "name": "stderr",
     "output_type": "stream",
     "text": [
      "100%|███████████████████████████████████████████████████| 115/115 [00:34<00:00,  3.31batch/s, accuracy=62.2, loss=0.91]\n",
      "100%|████████████████████████████████████████████████████| 29/29 [00:07<00:00,  3.70batch/s, accuracy=62.2, loss=0.978]\n"
     ]
    },
    {
     "name": "stdout",
     "output_type": "stream",
     "text": [
      "Training - Epoch [9/20], Loss: 0.9096, Accuracy: 62.24%\n",
      "Validation - Epoch [9/20], Loss: 0.9438, Accuracy: 62.17%\n"
     ]
    },
    {
     "name": "stderr",
     "output_type": "stream",
     "text": [
      "100%|██████████████████████████████████████████████████| 115/115 [00:35<00:00,  3.24batch/s, accuracy=61.2, loss=0.911]\n",
      "100%|█████████████████████████████████████████████████████| 29/29 [00:07<00:00,  3.65batch/s, accuracy=65.7, loss=1.01]\n"
     ]
    },
    {
     "name": "stdout",
     "output_type": "stream",
     "text": [
      "Training - Epoch [10/20], Loss: 0.9106, Accuracy: 61.15%\n",
      "Validation - Epoch [10/20], Loss: 1.0143, Accuracy: 65.65%\n"
     ]
    },
    {
     "name": "stderr",
     "output_type": "stream",
     "text": [
      "100%|██████████████████████████████████████████████████| 115/115 [00:36<00:00,  3.18batch/s, accuracy=60.8, loss=0.896]\n",
      "100%|██████████████████████████████████████████████████████| 29/29 [00:07<00:00,  3.63batch/s, accuracy=60, loss=0.991]\n"
     ]
    },
    {
     "name": "stdout",
     "output_type": "stream",
     "text": [
      "Training - Epoch [11/20], Loss: 0.8964, Accuracy: 60.83%\n",
      "Validation - Epoch [11/20], Loss: 0.9571, Accuracy: 60.00%\n"
     ]
    },
    {
     "name": "stderr",
     "output_type": "stream",
     "text": [
      "100%|██████████████████████████████████████████████████| 115/115 [00:36<00:00,  3.19batch/s, accuracy=61.6, loss=0.873]\n",
      "100%|████████████████████████████████████████████████████████| 29/29 [00:07<00:00,  3.73batch/s, accuracy=66.1, loss=1]\n"
     ]
    },
    {
     "name": "stdout",
     "output_type": "stream",
     "text": [
      "Training - Epoch [12/20], Loss: 0.8733, Accuracy: 61.59%\n",
      "Validation - Epoch [12/20], Loss: 0.9662, Accuracy: 66.09%\n"
     ]
    },
    {
     "name": "stderr",
     "output_type": "stream",
     "text": [
      "100%|██████████████████████████████████████████████████| 115/115 [00:36<00:00,  3.18batch/s, accuracy=62.8, loss=0.866]\n",
      "100%|████████████████████████████████████████████████████| 29/29 [00:07<00:00,  3.63batch/s, accuracy=64.3, loss=0.963]\n"
     ]
    },
    {
     "name": "stdout",
     "output_type": "stream",
     "text": [
      "Training - Epoch [13/20], Loss: 0.8661, Accuracy: 62.79%\n",
      "Validation - Epoch [13/20], Loss: 0.9632, Accuracy: 64.35%\n"
     ]
    },
    {
     "name": "stderr",
     "output_type": "stream",
     "text": [
      "100%|██████████████████████████████████████████████████| 115/115 [00:36<00:00,  3.17batch/s, accuracy=62.7, loss=0.848]\n",
      "100%|████████████████████████████████████████████████████| 29/29 [00:08<00:00,  3.62batch/s, accuracy=64.8, loss=0.953]\n"
     ]
    },
    {
     "name": "stdout",
     "output_type": "stream",
     "text": [
      "Training - Epoch [14/20], Loss: 0.8477, Accuracy: 62.68%\n",
      "Validation - Epoch [14/20], Loss: 0.9532, Accuracy: 64.78%\n"
     ]
    },
    {
     "name": "stderr",
     "output_type": "stream",
     "text": [
      "100%|██████████████████████████████████████████████████| 115/115 [00:35<00:00,  3.21batch/s, accuracy=61.5, loss=0.849]\n",
      "100%|████████████████████████████████████████████████████| 29/29 [00:08<00:00,  3.58batch/s, accuracy=64.3, loss=0.954]\n"
     ]
    },
    {
     "name": "stdout",
     "output_type": "stream",
     "text": [
      "Training - Epoch [15/20], Loss: 0.8488, Accuracy: 61.48%\n",
      "Validation - Epoch [15/20], Loss: 0.9538, Accuracy: 64.35%\n"
     ]
    },
    {
     "name": "stderr",
     "output_type": "stream",
     "text": [
      "100%|██████████████████████████████████████████████████| 115/115 [00:36<00:00,  3.17batch/s, accuracy=62.4, loss=0.825]\n",
      "100%|██████████████████████████████████████████████████████| 29/29 [00:07<00:00,  3.66batch/s, accuracy=63, loss=0.994]\n"
     ]
    },
    {
     "name": "stdout",
     "output_type": "stream",
     "text": [
      "Training - Epoch [16/20], Loss: 0.8251, Accuracy: 62.35%\n",
      "Validation - Epoch [16/20], Loss: 0.9599, Accuracy: 63.04%\n"
     ]
    },
    {
     "name": "stderr",
     "output_type": "stream",
     "text": [
      "100%|██████████████████████████████████████████████████| 115/115 [00:36<00:00,  3.14batch/s, accuracy=65.1, loss=0.807]\n",
      "100%|██████████████████████████████████████████████████████| 29/29 [00:07<00:00,  3.67batch/s, accuracy=63, loss=0.967]\n"
     ]
    },
    {
     "name": "stdout",
     "output_type": "stream",
     "text": [
      "Training - Epoch [17/20], Loss: 0.8073, Accuracy: 65.07%\n",
      "Validation - Epoch [17/20], Loss: 0.9668, Accuracy: 63.04%\n"
     ]
    },
    {
     "name": "stderr",
     "output_type": "stream",
     "text": [
      "100%|██████████████████████████████████████████████████| 115/115 [00:35<00:00,  3.26batch/s, accuracy=62.9, loss=0.797]\n",
      "100%|█████████████████████████████████████████████████████| 29/29 [00:07<00:00,  3.70batch/s, accuracy=49.1, loss=1.07]\n"
     ]
    },
    {
     "name": "stdout",
     "output_type": "stream",
     "text": [
      "Training - Epoch [18/20], Loss: 0.7968, Accuracy: 62.89%\n",
      "Validation - Epoch [18/20], Loss: 1.0296, Accuracy: 49.13%\n"
     ]
    },
    {
     "name": "stderr",
     "output_type": "stream",
     "text": [
      "100%|████████████████████████████████████████████████████| 115/115 [00:36<00:00,  3.15batch/s, accuracy=63, loss=0.777]\n",
      "100%|████████████████████████████████████████████████████| 29/29 [00:07<00:00,  3.67batch/s, accuracy=62.6, loss=0.967]\n"
     ]
    },
    {
     "name": "stdout",
     "output_type": "stream",
     "text": [
      "Training - Epoch [19/20], Loss: 0.7772, Accuracy: 63.00%\n",
      "Validation - Epoch [19/20], Loss: 0.9675, Accuracy: 62.61%\n"
     ]
    },
    {
     "name": "stderr",
     "output_type": "stream",
     "text": [
      "100%|██████████████████████████████████████████████████| 115/115 [00:36<00:00,  3.15batch/s, accuracy=65.5, loss=0.746]\n",
      "100%|█████████████████████████████████████████████████████| 29/29 [00:07<00:00,  3.73batch/s, accuracy=59.6, loss=1.06]"
     ]
    },
    {
     "name": "stdout",
     "output_type": "stream",
     "text": [
      "Training - Epoch [20/20], Loss: 0.7464, Accuracy: 65.51%\n",
      "Validation - Epoch [20/20], Loss: 1.0221, Accuracy: 59.57%\n"
     ]
    },
    {
     "name": "stderr",
     "output_type": "stream",
     "text": [
      "\n"
     ]
    }
   ],
   "source": [
    "# Create DataLoaders with batch sizes\n",
    "batch_size = 8 \n",
    "train_loader = DataLoader(training_dataset, batch_size=batch_size, shuffle=True)\n",
    "valid_loader = DataLoader(validation_dataset, batch_size=batch_size, shuffle=False)\n",
    "\n",
    "# Training loop\n",
    "num_epochs = 20  \n",
    "\n",
    "# Lists to store training and validation metrics\n",
    "train_losses = []\n",
    "valid_losses = []\n",
    "train_accuracies = []\n",
    "valid_accuracies = []\n",
    "\n",
    "# Training loop\n",
    "for epoch in range(num_epochs):\n",
    "    model.train()\n",
    "    total_loss = 0\n",
    "    correct = 0\n",
    "    total = 0\n",
    "    with tqdm(train_loader, unit=\"batch\") as t:\n",
    "        for data, labels in t:\n",
    "            optimizer.zero_grad()\n",
    "            outputs = model(data.to(device))\n",
    "            loss = criterion(outputs, labels.to(device))\n",
    "            loss.backward()\n",
    "            optimizer.step()\n",
    "            total_loss += loss.item()\n",
    "            _, predicted = outputs.max(1)\n",
    "            total += labels.size(0)\n",
    "            correct += predicted.eq(labels.to(device)).sum().item()\n",
    "            accuracy = 100.0 * correct / total\n",
    "            t.set_postfix(loss=total_loss / (t.n + 1), accuracy=accuracy)  # Update the progress bar\n",
    "    \n",
    "    # Calculate training accuracy and loss for this epoch\n",
    "    train_loss = total_loss / len(train_loader)\n",
    "    train_acc = accuracy\n",
    "    train_losses.append(train_loss)\n",
    "    train_accuracies.append(train_acc)\n",
    "    \n",
    "    # Validation loop\n",
    "    model.eval()\n",
    "    total_loss = 0\n",
    "    correct = 0\n",
    "    total = 0\n",
    "    with tqdm(valid_loader, unit=\"batch\") as t:\n",
    "        for data, labels in t:\n",
    "            outputs = model(data.to(device))\n",
    "            loss = criterion(outputs, labels.to(device))\n",
    "            total_loss += loss.item()\n",
    "            _, predicted = outputs.max(1)\n",
    "            total += labels.size(0)\n",
    "            correct += predicted.eq(labels.to(device)).sum().item()\n",
    "            accuracy = 100.0 * correct / total\n",
    "            t.set_postfix(loss=total_loss / (t.n + 1), accuracy=accuracy)  \n",
    "\n",
    "    # Calculate validation accuracy and loss for this epoch\n",
    "    valid_loss = total_loss / len(valid_loader)\n",
    "    valid_acc = accuracy\n",
    "    valid_losses.append(valid_loss)\n",
    "    valid_accuracies.append(valid_acc)\n",
    "\n",
    "    print(f'Training - Epoch [{epoch+1}/{num_epochs}], Loss: {train_loss:.4f}, Accuracy: {train_acc:.2f}%')\n",
    "    print(f'Validation - Epoch [{epoch+1}/{num_epochs}], Loss: {valid_loss:.4f}, Accuracy: {valid_acc:.2f}%')"
   ]
  },
  {
   "cell_type": "code",
   "execution_count": 65,
   "id": "15139718",
   "metadata": {},
   "outputs": [],
   "source": [
    "# Save the trained model\n",
    "torch.save(model.state_dict(), 'trained_model_3010_3.pth')"
   ]
  },
  {
   "cell_type": "code",
   "execution_count": 66,
   "id": "8c7dcc57",
   "metadata": {
    "scrolled": false
   },
   "outputs": [
    {
     "data": {
      "image/png": "[encoded data removed]",
      "text/plain": [
       "<Figure size 720x360 with 1 Axes>"
      ]
     },
     "metadata": {
      "needs_background": "light"
     },
     "output_type": "display_data"
    },
    {
     "data": {
      "image/png": "[encoded data removed]",
      "text/plain": [
       "<Figure size 720x360 with 1 Axes>"
      ]
     },
     "metadata": {
      "needs_background": "light"
     },
     "output_type": "display_data"
    }
   ],
   "source": [
    "# Plot Training Loss vs. Validation Loss\n",
    "plt.figure(figsize=(10, 5))\n",
    "plt.plot(train_losses, label='Training Loss')\n",
    "plt.plot(valid_losses, label='Validation Loss')\n",
    "plt.xlabel('Epoch')\n",
    "plt.ylabel('Loss')\n",
    "plt.legend()\n",
    "plt.title('Training Loss vs. Validation Loss')\n",
    "plt.show()\n",
    "\n",
    "# Plot Training Accuracy vs. Validation Accuracy\n",
    "plt.figure(figsize=(10, 5))\n",
    "plt.plot(train_accuracies, label='Training Accuracy')\n",
    "plt.plot(valid_accuracies, label='Validation Accuracy')\n",
    "plt.xlabel('Epoch')\n",
    "plt.ylabel('Accuracy (%)')\n",
    "plt.legend()\n",
    "plt.title('Training Accuracy vs. Validation Accuracy')\n",
    "plt.show()"
   ]
  },
  {
   "cell_type": "code",
   "execution_count": null,
   "id": "ba5eff5d",
   "metadata": {},
   "outputs": [],
   "source": []
  },
  {
   "cell_type": "code",
   "execution_count": 67,
   "id": "3aa3e493",
   "metadata": {
    "scrolled": false
   },
   "outputs": [
    {
     "name": "stdout",
     "output_type": "stream",
     "text": [
      "----------------------------------------------------------------\n",
      "        Layer (type)               Output Shape         Param #\n",
      "================================================================\n",
      "            Conv2d-1        [-1, 256, 224, 224]           7,168\n",
      "              ReLU-2        [-1, 256, 224, 224]               0\n",
      "         MaxPool2d-3        [-1, 256, 112, 112]               0\n",
      "            Conv2d-4        [-1, 256, 112, 112]         590,080\n",
      "              ReLU-5        [-1, 256, 112, 112]               0\n",
      "            Conv2d-6        [-1, 256, 112, 112]         590,080\n",
      "              ReLU-7        [-1, 256, 112, 112]               0\n",
      "     ResidualBlock-8        [-1, 256, 112, 112]               0\n",
      "         MaxPool2d-9          [-1, 256, 56, 56]               0\n",
      "           Conv2d-10          [-1, 128, 56, 56]         295,040\n",
      "             ReLU-11          [-1, 128, 56, 56]               0\n",
      "           Conv2d-12          [-1, 128, 56, 56]         147,584\n",
      "           Conv2d-13          [-1, 128, 56, 56]          32,896\n",
      "             ReLU-14          [-1, 128, 56, 56]               0\n",
      "    ResidualBlock-15          [-1, 128, 56, 56]               0\n",
      "        MaxPool2d-16          [-1, 128, 28, 28]               0\n",
      "           Conv2d-17           [-1, 64, 28, 28]          73,792\n",
      "             ReLU-18           [-1, 64, 28, 28]               0\n",
      "           Conv2d-19           [-1, 64, 28, 28]          36,928\n",
      "           Conv2d-20           [-1, 64, 28, 28]           8,256\n",
      "             ReLU-21           [-1, 64, 28, 28]               0\n",
      "    ResidualBlock-22           [-1, 64, 28, 28]               0\n",
      "        MaxPool2d-23           [-1, 64, 14, 14]               0\n",
      "           Linear-24                  [-1, 256]       3,211,520\n",
      "             ReLU-25                  [-1, 256]               0\n",
      "           Linear-26                  [-1, 128]          32,896\n",
      "             ReLU-27                  [-1, 128]               0\n",
      "          Dropout-28                  [-1, 128]               0\n",
      "           Linear-29                  [-1, 128]          16,512\n",
      "             ReLU-30                  [-1, 128]               0\n",
      "           Linear-31                   [-1, 64]           8,256\n",
      "             ReLU-32                   [-1, 64]               0\n",
      "           Linear-33                    [-1, 4]             260\n",
      "================================================================\n",
      "Total params: 5,051,268\n",
      "Trainable params: 5,051,268\n",
      "Non-trainable params: 0\n",
      "----------------------------------------------------------------\n",
      "Input size (MB): 0.57\n",
      "Forward/backward pass size (MB): 370.67\n",
      "Params size (MB): 19.27\n",
      "Estimated Total Size (MB): 390.51\n",
      "----------------------------------------------------------------\n"
     ]
    }
   ],
   "source": [
    "from torchsummary import summary\n",
    "\n",
    "# Provide the input shape as a tuple (channels, height, width)\n",
    "summary(model, (3, 224, 224))"
   ]
  },
  {
   "cell_type": "code",
   "execution_count": 68,
   "id": "a6d3d564",
   "metadata": {},
   "outputs": [
    {
     "name": "stdout",
     "output_type": "stream",
     "text": [
      "Results saved to prediction_result_2910.csv\n"
     ]
    }
   ],
   "source": [
    "\n",
    "\n",
    "# Define your neural network class\n",
    "\n",
    "# Define your data loading functions\n",
    "\n",
    "# Load your trained model\n",
    "model = ImprovedNeuralNetwork()\n",
    "model.load_state_dict(torch.load('trained_model_3010_3.pth'))\n",
    "model.eval()  # Set the model to evaluation mode\n",
    "\n",
    "# Assuming 'test_array' has shape [num_samples, 224, 224, 3]\n",
    "test_data = torch.Tensor(test_array).permute(0, 3, 1, 2)\n",
    "\n",
    "# Make predictions on the test data\n",
    "with torch.no_grad():\n",
    "    test_outputs = model(test_data)\n",
    "\n",
    "# Get the predicted labels (assuming you are using softmax as the final layer)\n",
    "_, predicted_labels = torch.max(test_outputs, 1)\n",
    "\n",
    "# Create a DataFrame to store the results\n",
    "results_df = pd.DataFrame({\n",
    "    'test_file_names': test_file_name,\n",
    "    'predicted_labels': predicted_labels\n",
    "})\n",
    "\n",
    "# Save the results to a CSV file\n",
    "results_df.to_csv(r'C:\\Users\\ankit\\OneDrive\\Desktop\\prediction_result_2910.csv', index=False, header=False)\n",
    "\n",
    "print(\"Results saved to prediction_result_2910.csv\")"
   ]
  },
  {
   "cell_type": "markdown",
   "id": "d1e4120d",
   "metadata": {},
   "source": [
    "## Evaluate your model using the developed software \n",
    "\n",
    "## Compare results with [SCTL paper](https://www.mdpi.com/2076-2615/12/7/886/htm). Requirement: performance is better than VGG16: 66.8%\n",
    "\n",
    "\n",
    "## Achieved result is a bit lesser than VGG16 Accuracy by 2.86%\n",
    "\n"
   ]
  },
  {
   "attachments": {
    "Tool_Accuracy.png": {
     "image/png": "[encoded data removed]"
    }
   },
   "cell_type": "markdown",
   "id": "066f73b1",
   "metadata": {},
   "source": [
    "![Tool_Accuracy.png](attachment:Tool_Accuracy.png)"
   ]
  },
  {
   "cell_type": "markdown",
   "id": "9a6d7855",
   "metadata": {},
   "source": [
    "## Write a four-page paper report using the shared LaTex template. Upload your paper to ResearchGate or Arxiv, and put your paper link and GitHub weight link here."
   ]
  },
  {
   "cell_type": "markdown",
   "id": "64cae44a",
   "metadata": {},
   "source": [
    "1. Research Paper: https://www.researchgate.net/publication/375491199_Dairy_Cow_Teat_Health_Condition_Classification_using_Deep_Learning_Techniques\n",
    "\n",
    "2. GitHub Weight Link: https://github.com/ankitagg2008/Image-Classification---Dairy-Cow-Teat-Health-Conditon/blob/94d61c5ca67376c41dba1e3b6a47893b7349ac29/trained_model_3010_3.pth"
   ]
  },
  {
   "cell_type": "markdown",
   "id": "17c2560b",
   "metadata": {},
   "source": [
    "## Citations: \n",
    "\n",
    "1. Youshan Zhang, Ian R Porter, Matthias Wieland, and Parminder S Basran. Separable confident transductive learning for dairy cows teat-end condition classification. Animals, 12(7):886, 2022.\n",
    "2. Youshan Zhang's Git Repository: https://github.com/YoushanZhang/SCTL\n",
    "3. https://en.wikipedia.org/wiki/Residual_neural_network\n",
    "4. https://pytorch.org/docs/stable/generated/torch.nn.Dropout.html\n",
    "5. https://pyimagesearch.com/2021/07/19/pytorch-training-your-first-convolutional-neural-network-cnn/\n",
    "6. https://towardsdatascience.com/building-a-residual-network-with-pytorch-df2f6937053b"
   ]
  },
  {
   "cell_type": "code",
   "execution_count": null,
   "id": "037837aa",
   "metadata": {},
   "outputs": [],
   "source": []
  }
 ],
 "metadata": {
  "kernelspec": {
   "display_name": "Python 3",
   "language": "python",
   "name": "python3"
  },
  "language_info": {
   "codemirror_mode": {
    "name": "ipython",
    "version": 3
   },
   "file_extension": ".py",
   "mimetype": "text/x-python",
   "name": "python",
   "nbconvert_exporter": "python",
   "pygments_lexer": "ipython3",
   "version": "3.6.3"
  }
 },
 "nbformat": 4,
 "nbformat_minor": 5
}
